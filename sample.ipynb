{
 "cells": [
  {
   "metadata": {},
   "cell_type": "markdown",
   "source": [
    "# This is a sample Jupyter Notebook\n",
    "\n",
    "Below is an example of a code cell. \n",
    "Put your cursor into the cell and press Shift+Enter to execute it and select the next one, or click !here goes the icon of the corresponding button in the gutter! button.\n",
    "To debug a cell, press Alt+Shift+Enter, or click !here goes the icon of the corresponding button in the gutter! button.\n",
    "\n",
    "Press Double Shift to search everywhere for classes, files, tool windows, actions, and settings.\n",
    "\n",
    "To learn more about Jupyter Notebooks in PyCharm, see [help](https://www.jetbrains.com/help/pycharm/jupyter-notebook-support.html).\n",
    "For an overview of PyCharm, go to Help -> Learn IDE features or refer to [our documentation](https://www.jetbrains.com/help/pycharm/getting-started.html)."
   ],
   "id": "8a77807f92f26ee"
  },
  {
   "metadata": {
    "ExecuteTime": {
     "end_time": "2025-02-18T06:31:53.971251Z",
     "start_time": "2025-02-18T06:31:53.380078Z"
    }
   },
   "cell_type": "code",
   "source": [
    "import numpy as np\n",
    "import matplotlib.pyplot as plt\n",
    "from ipywidgets import interact, FloatSlider  \n",
    "\n",
    "def addPointCharge2D(V, Ex, Ey, X, Y, q):\n",
    "    r2 = (X - q[0])**2 + (Y - q[1])**2\n",
    "    Ex += q[2]*(X - q[0])/r2**(3/2)  # Electric field (x)\n",
    "    Ey += q[2]*(Y - q[1])/r2**(3/2)  # Electric field (y)\n",
    "    V  += q[2]/r2**0.5\n",
    "    return V, Ex, Ey\n",
    "\n",
    "def plot_electric_field_and_potential(q1_x, q1_y, q1_mag, q2_x, q2_y, q2_mag, q3_x, q3_y, q3_mag):\n",
    "    # Define the grid\n",
    "    xrange = [-1., 1.]\n",
    "    step = 100\n",
    "    xlist = np.linspace(xrange[0], xrange[1], step)\n",
    "    ylist = np.linspace(xrange[0], xrange[1], step)\n",
    "    X, Y = np.meshgrid(xlist, ylist)\n",
    "\n",
    "    # Define charges\n",
    "    q = np.array([\n",
    "        [q1_x, q1_y, q1_mag],  # Charge 1\n",
    "        [q2_x, q2_y, q2_mag],  # Charge 2\n",
    "        [q3_x, q3_y, q3_mag]   # Charge 3\n",
    "    ])\n",
    "\n",
    "    # Initialize electric field and potential\n",
    "    Ex = np.zeros_like(X)\n",
    "    Ey = np.zeros_like(Y)\n",
    "    V  = np.zeros_like(X)\n",
    "\n",
    "    # Add point charges\n",
    "    for i in range(len(q)):\n",
    "        V, Ex, Ey = addPointCharge2D(V, Ex, Ey, X, Y, q[i])\n",
    "\n",
    "    # Calculate electric field intensity\n",
    "    E = np.log((Ex**2 + Ey**2)**0.5)\n",
    "\n",
    "    # Plot electric field intensity and potential\n",
    "    fig = plt.figure(figsize=(10,4))\n",
    "\n",
    "    # Electric Field Intensity\n",
    "    ax = fig.add_subplot(121)\n",
    "    ax.set_title(\"Electric Field Intensity, E\")\n",
    "    ax.streamplot(X, Y, Ex, Ey, color='black', linewidth=0.5,\n",
    "                  density=0.5, arrowstyle='->', arrowsize=1.0)\n",
    "    levels = np.linspace(-2, 10, 100)\n",
    "    cp = ax.contourf(X, Y, E, levels=levels, cmap='jet')\n",
    "    fig.colorbar(cp)\n",
    "\n",
    "    # Electric Potential\n",
    "    ax = fig.add_subplot(122)\n",
    "    ax.set_title(\"Electric Potential, V\")\n",
    "    ax.streamplot(X, Y, Ex, Ey, color='black', linewidth=0.5,\n",
    "                  density=1.0, arrowstyle='->', arrowsize=1.0)\n",
    "    levels = np.linspace(-150, 150, 100)\n",
    "    cp = ax.contourf(X, Y, V, levels=levels, cmap='seismic')\n",
    "    fig.colorbar(cp)\n",
    "\n",
    "    plt.show()\n",
    "\n",
    "# Define interactive sliders\n",
    "interact(plot_electric_field_and_potential,\n",
    "         q1_x=FloatSlider(min=-1.0, max=1.0, step=0.1, value=0.0, description='Q1 X:'),\n",
    "         q1_y=FloatSlider(min=-1.0, max=1.0, step=0.1, value=0.0, description='Q1 Y:'),\n",
    "         q1_mag=FloatSlider(min=-10.0, max=10.0, step=0.1, value=1.0, description='Q1 Magnitude:'),\n",
    "         q2_x=FloatSlider(min=-1.0, max=1.0, step=0.1, value=0.5, description='Q2 X:'),\n",
    "         q2_y=FloatSlider(min=-1.0, max=1.0, step=0.1, value=0.5, description='Q2 Y:'),\n",
    "         q2_mag=FloatSlider(min=-10.0, max=10.0, step=0.1, value=-1.0, description='Q2 Magnitude:'),\n",
    "         q3_x=FloatSlider(min=-1.0, max=1.0, step=0.1, value=-0.5, description='Q3 X:'),\n",
    "         q3_y=FloatSlider(min=-1.0, max=1.0, step=0.1, value=-0.5, description='Q3 Y:'),\n",
    "         q3_mag=FloatSlider(min=-10.0, max=10.0, step=0.1, value=1.0, description='Q3 Magnitude:'))"
   ],
   "id": "fbc121e30a2defb3",
   "outputs": [
    {
     "data": {
      "text/plain": [
       "interactive(children=(FloatSlider(value=0.0, description='Q1 X:', max=1.0, min=-1.0), FloatSlider(value=0.0, d…"
      ],
      "application/vnd.jupyter.widget-view+json": {
       "version_major": 2,
       "version_minor": 0,
       "model_id": "18bfacb7132145059070dd8550fbe89d"
      }
     },
     "metadata": {},
     "output_type": "display_data"
    },
    {
     "data": {
      "text/plain": [
       "<function __main__.plot_electric_field_and_potential(q1_x, q1_y, q1_mag, q2_x, q2_y, q2_mag, q3_x, q3_y, q3_mag)>"
      ]
     },
     "execution_count": 2,
     "metadata": {},
     "output_type": "execute_result"
    }
   ],
   "execution_count": 2
  },
  {
   "metadata": {},
   "cell_type": "code",
   "outputs": [],
   "execution_count": null,
   "source": "",
   "id": "2729694f5431e2da"
  }
 ],
 "metadata": {
  "kernelspec": {
   "display_name": "Python 3",
   "language": "python",
   "name": "python3"
  },
  "language_info": {
   "codemirror_mode": {
    "name": "ipython",
    "version": 2
   },
   "file_extension": ".py",
   "mimetype": "text/x-python",
   "name": "python",
   "nbconvert_exporter": "python",
   "pygments_lexer": "ipython2",
   "version": "2.7.6"
  }
 },
 "nbformat": 4,
 "nbformat_minor": 5
}
